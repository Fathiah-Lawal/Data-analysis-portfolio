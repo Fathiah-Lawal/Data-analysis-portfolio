{
 "cells": [
  {
   "cell_type": "markdown",
   "id": "e0afd2ce-a568-4460-a0af-4eb3d1239433",
   "metadata": {},
   "source": [
    "## Errror in file path\n",
    "The errror due to the backslashes in the file path being interpreted as escape characters in Python strings. To fix this, you can either:\n",
    "\n",
    "Use raw strings by prefixing the string with an r.\n",
    "Use double backslashes (\\\\) instead of single backslashes (\\).\n",
    "Use forward slashes (/)."
   ]
  },
  {
   "cell_type": "markdown",
   "id": "3f508bab-6922-490c-b00c-e9a06587b0e7",
   "metadata": {},
   "source": [
    "## Standard deviation and variance \n",
    "Standard deviation and variance are two fundamental statistical measures used to quantify the amount of variation or dispersion in a set of data points. They are crucial in data analysis for several reasons: \n",
    "\n",
    "In this example, the standard deviation of approximately 2.7 indicates how much the exam scores vary from the mean score of 88.4. This information helps in understanding the consistency of the students' performance.\n",
    "\n",
    "Large standard deviations indicate that data points are spread out over a wide range of values, while small standard deviations suggest that data points are close to the mean.\n",
    "By understanding the spread, analysts can identify outliers or anomalies that may require further investigation.\n"
   ]
  },
  {
   "cell_type": "markdown",
   "id": "d12a4538-a909-4922-b325-137ad90cd028",
   "metadata": {},
   "source": []
  },
  {
   "cell_type": "markdown",
   "id": "902681b8-9e74-4540-a2f7-4c5b4129d0ee",
   "metadata": {},
   "source": []
  }
 ],
 "metadata": {
  "kernelspec": {
   "display_name": "Python 3 (ipykernel)",
   "language": "python",
   "name": "python3"
  },
  "language_info": {
   "codemirror_mode": {
    "name": "ipython",
    "version": 3
   },
   "file_extension": ".py",
   "mimetype": "text/x-python",
   "name": "python",
   "nbconvert_exporter": "python",
   "pygments_lexer": "ipython3",
   "version": "3.12.4"
  }
 },
 "nbformat": 4,
 "nbformat_minor": 5
}
